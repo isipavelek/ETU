{
 "cells": [
  {
   "cell_type": "markdown",
   "id": "f4cc7b7f",
   "metadata": {},
   "source": [
    "# Ejemplo de calculo de serie de Fourier\n",
    "\n",
    "Prof. Pavelek Israel"
   ]
  },
  {
   "cell_type": "markdown",
   "id": "224990c4",
   "metadata": {},
   "source": [
    "### Función a trabajar:\n",
    "\\begin{equation} f(t)= \\left\\{ \\begin{array}{lcc}\n",
    "             0 &   si  & 0 < t < 3 \\\\\n",
    "             \\\\ 2t -6 &  si & 3 < t < 4 \\\\\n",
    "             \\\\ -2t +10 &  si & 4 < t < 5 \\\\\n",
    "             \\\\ 0 &   si  & & 5 < t < 6 \\\\\n",
    "             \\end{array}\n",
    "   \\right.\n",
    "\\end{equation}"
   ]
  },
  {
   "cell_type": "code",
   "execution_count": 193,
   "id": "1996f821",
   "metadata": {},
   "outputs": [
    {
     "data": {
      "image/png": "[encoded data removed]",
      "text/plain": [
       "<Figure size 432x288 with 1 Axes>"
      ]
     },
     "metadata": {
      "needs_background": "light"
     },
     "output_type": "display_data"
    }
   ],
   "source": [
    "from matplotlib import pyplot\n",
    "\n",
    "def f1(x):\n",
    "    return 2*(x) - 6\n",
    "\n",
    "def f2(x):\n",
    "    return -2*x + 10\n",
    "def f3(x):\n",
    "    return 0\n",
    "# Valores del eje X que toma el gráfico.\n",
    "x1 = range(3, 5)\n",
    "x2 = range(4, 6)\n",
    "x3 = range(0, 4)\n",
    "x4 = range(5, 7)\n",
    "# Graficar ambas funciones.\n",
    "pyplot.plot(x1, [f1(i) for i in x1],color='red')\n",
    "pyplot.plot(x2, [f2(i) for i in x2],color='red')\n",
    "pyplot.plot(x3, [f3(i) for i in x3],color='red')\n",
    "pyplot.plot(x4, [f3(i) for i in x4],color='red')\n",
    "\n",
    "# Establecer el color de los ejes.\n",
    "pyplot.axhline(0, color=\"black\")\n",
    "pyplot.axvline(0, color=\"black\")\n",
    "# Limitar los valores de los ejes.\n",
    "#pyplot.xlim(-10, 10)\n",
    "#pyplot.ylim(-10, 10)\n",
    "# Mostrarlo.\n",
    "pyplot.show()"
   ]
  },
  {
   "cell_type": "code",
   "execution_count": 194,
   "id": "7f3d9fd2",
   "metadata": {},
   "outputs": [
    {
     "ename": "SyntaxError",
     "evalue": "invalid syntax (Temp/ipykernel_11752/3360466960.py, line 1)",
     "output_type": "error",
     "traceback": [
      "\u001b[1;36m  File \u001b[1;32m\"C:\\Users\\ipave\\AppData\\Local\\Temp/ipykernel_11752/3360466960.py\"\u001b[1;36m, line \u001b[1;32m1\u001b[0m\n\u001b[1;33m    Esta función tiene el mismo contenido armónico que la función desplazada a la izquierda que podemos hacer simétrica (par)\u001b[0m\n\u001b[1;37m         ^\u001b[0m\n\u001b[1;31mSyntaxError\u001b[0m\u001b[1;31m:\u001b[0m invalid syntax\n"
     ]
    }
   ],
   "source": [
    "Esta función tiene el mismo contenido armónico que la función desplazada a la izquierda que podemos hacer simétrica (par)"
   ]
  },
  {
   "cell_type": "code",
   "execution_count": 195,
   "id": "cf07cfcb",
   "metadata": {},
   "outputs": [
    {
     "data": {
      "image/png": "[encoded data removed]",
      "text/plain": [
       "<Figure size 432x288 with 1 Axes>"
      ]
     },
     "metadata": {
      "needs_background": "light"
     },
     "output_type": "display_data"
    }
   ],
   "source": [
    "from matplotlib import pyplot\n",
    "\n",
    "def f1(x):\n",
    "    return 2*(x) + 2\n",
    "\n",
    "def f2(x):\n",
    "    return -2*x + 2\n",
    "def f3(x):\n",
    "    return 0\n",
    "# Valores del eje X que toma el gráfico.\n",
    "x1 = range(-1, 1)\n",
    "x2 = range(0, 2)\n",
    "x3 = range(-4, 0)\n",
    "x4 = range(1,3)\n",
    "# Graficar ambas funciones.\n",
    "pyplot.plot(x1, [f1(i) for i in x1],color='red')\n",
    "pyplot.plot(x2, [f2(i) for i in x2],color='red')\n",
    "pyplot.plot(x3, [f3(i) for i in x3],color='red')\n",
    "pyplot.plot(x4, [f3(i) for i in x4],color='red')\n",
    "\n",
    "# Establecer el color de los ejes.\n",
    "pyplot.axhline(0, color=\"black\")\n",
    "pyplot.axvline(0, color=\"black\")\n",
    "# Limitar los valores de los ejes.\n",
    "#pyplot.xlim(-10, 10)\n",
    "#pyplot.ylim(-10, 10)\n",
    "# Mostrarlo.\n",
    "pyplot.show()"
   ]
  },
  {
   "cell_type": "markdown",
   "id": "039595f8",
   "metadata": {},
   "source": [
    "Cuya expresión es:"
   ]
  },
  {
   "cell_type": "markdown",
   "id": "b7796aa8",
   "metadata": {},
   "source": [
    "\\begin{equation} f(t)= \\left\\{ \\begin{array}{lcc}\n",
    "             0 &   si  & -4 < t < -1 \\\\\n",
    "             \\\\ 2t +2 &  si & -1 < t < 0 \\\\\n",
    "             \\\\ -2t +2 &  si & 0 < t < 1 \\\\\n",
    "             \\\\ 0 &   si  & 1 < t < 2 \\\\\n",
    "             \\end{array}\n",
    "   \\right.\n",
    "\\end{equation}"
   ]
  },
  {
   "cell_type": "markdown",
   "id": "74151e52",
   "metadata": {},
   "source": [
    "$An=\\frac{1}{T} \\int_{0}^{T} f(t) dt$\n",
    "\n",
    "$an=\\frac{2}{T} \\int_{0}^{T} f(t) \\cdot cos (n\\omega_o t) dt$\n",
    "\n",
    "$bn=\\frac{2}{T} \\int_{0}^{T} f(t) \\cdot sin (n\\omega_o t) dt$\n",
    "\n",
    "Para nuestro caso:\n",
    "\n",
    "$An=\\frac{base\\cdot altura}{2\\cdot T}$\n",
    "\n",
    "$An=\\frac{2\\cdot 2}{2\\cdot 6}=\\frac{1}{3}$\n",
    "\n",
    "Calculo an:\n",
    "\n",
    "$an=\\frac{1}{3} \\int_{-1}^{0} (2t+2) \\cdot cos (n\\omega_o t) dt+\\frac{1}{3} \\int_{0}^{1} (-2t+2) \\cdot cos (n\\omega_o t) dt$\n",
    "\n",
    "$an=\\frac{1}{3} [\\int_{-1}^{0} 2tcos (n\\omega_o t)dt + \\int_{-1}^{0} 2cos(n\\omega_o t)dt]+\\frac{1}{3} [\\int_{0}^{1} -2tcos (n\\omega_o t)dt + \\int_{0}^{1} 2cos(n\\omega_o t)dt]$\n",
    "\n",
    "de la tabla de integrales:\n",
    "\n",
    "$\\int cos (ax) dx = \\frac{sin (ax)}{a}$\n",
    "\n",
    "$\\int t\\cdot cos (ax) dx = \\frac{cos (ax)}{a^2}+\\frac{x \\cdot sin (ax)}{a}$\n",
    "\n",
    "$an=\\frac{1}{3} [\\int_{-1}^{0} 2t\\cdot cos (n\\omega_o t)dt + \\int_{-1}^{0} 2\\cdot cos(n\\omega_o t)dt]+\\frac{1}{3} [\\int_{0}^{1} -2t\\cdot cos (n\\omega_o t)dt + \\int_{0}^{1} 2\\cdot cos(n\\omega_o t)dt]$\n",
    "\n",
    "$an=\\frac{2}{3} [\\int_{-1}^{0} t\\cdot cos (n\\omega_o t)dt + \\int_{-1}^{0} cos(n\\omega_o t)dt]+\\frac{2}{3} [\\int_{0}^{1} -t\\cdot cos (n\\omega_o t)dt + \\int_{0}^{1} cos(n\\omega_o t)dt]$\n",
    "\n",
    "$an=\\frac{2}{3} [[\\frac{cos (n\\omega_o t)}{(n\\omega_o)^2}+\\frac{t \\cdot sin (n\\omega_o t)}{n\\omega_o}]|_{-1}^{0}+ [ \\frac{sin (n\\omega_o t)}{(n\\omega_o)}]|_{-1}^{0}]+\\frac{2}{3} [-[\\frac{cos (n\\omega_o t)}{(n\\omega_o)^2}+\\frac{t \\cdot sin (n\\omega_o t)}{n\\omega_o}]|_{0}^{1}+ [ \\frac{sin (n\\omega_o t)}{(n\\omega_o)}]|_{0}^{1}]$\n",
    "\n",
    "\n",
    "\n",
    "\n",
    "\n"
   ]
  },
  {
   "cell_type": "markdown",
   "id": "a9cc6949",
   "metadata": {},
   "source": [
    "Aplicando Barrow:\n",
    "\n",
    "$an=\\frac{2}{3} [\\frac{1}{(n\\omega_o)^2}-[\\frac{cos (-n\\omega_o)}{(n\\omega_o)^2}+\\frac{- \\cdot sin (-n\\omega_o)}{(n\\omega_o)}]- \\frac{sin (-n\\omega_o)}{(n\\omega_o)}]+\\frac{2}{3} [-[\\frac{cos (n\\omega_o)}{(n\\omega_o)^2}+\\frac{sin (n\\omega_o)}{(n\\omega_o)}-\\frac{1}{(n\\omega_o)^2}]+ \\frac{sin (n\\omega_o)}{(n\\omega_o)}]$\n",
    "\n",
    "\n",
    "$an=\\frac{2}{3} [\\frac{1}{(n\\omega_o)^2}-\\frac{cos (-n\\omega_o)}{(n\\omega_o)^2}+\\frac{\\cdot sin (-n\\omega_o)}{(n\\omega_o)}- \\frac{sin (-n\\omega_o)}{(n\\omega_o)}]+\\frac{2}{3} [-\\frac{cos (n\\omega_o)}{(n\\omega_o)^2}-\\frac{ sin (n\\omega_o)}{(n\\omega_o)}+\\frac{1}{(n\\omega_o)^2}+ \\frac{sin (n\\omega_o)}{(n\\omega_o)}]$\n",
    "\n",
    "Simplificando:\n",
    "\n",
    "$an=\\frac{2}{3} [\\frac{1}{(n\\omega_o)^2}-\\frac{cos (-n\\omega_o)}{(n\\omega_o)^2}]+\\frac{2}{3} [-\\frac{cos (n\\omega_o)}{(n\\omega_o)^2}+\\frac{1}{(n\\omega_o)^2}]$\n",
    "\n",
    "\n",
    "Recordando que la funcion cos(x) es una función par f(x)=f(-x)\n",
    "\n",
    "$an=\\frac{2}{3} [\\frac{1}{(n\\omega_o)^2}-\\frac{cos (n\\omega_o)}{(n\\omega_o)^2}]+\\frac{2}{3} [-\\frac{cos (n\\omega_o)}{(n\\omega_o)^2}+\\frac{1}{(n\\omega_o)^2}]$\n",
    "\n",
    "Agurpando:\n",
    "\n",
    "$an=\\frac{4}{3} [\\frac{1}{(n\\omega_o)^2}-\\frac{cos (n\\omega_o)}{(n\\omega_o)^2}]$\n",
    "\n",
    "Recordamos que $\\omega_0=\\frac{2\\pi}{T}$\n",
    "\n",
    "Como T=6\n",
    "Recordamos que $\\omega_0=\\frac{2\\pi}{6}$\n",
    "\n",
    "$\\omega_0=\\frac{\\pi}{3}$\n",
    "\n",
    "$an=\\frac{4}{3} (\\frac{9}{(n\\pi)^2}-\\frac{9 \\cdot sin (n\\frac{\\pi}{3})}{(n\\pi)^2})$\n",
    "\n",
    "$an=\\frac{12}{n^2\\pi^2} \\cdot (1-cos (n\\frac{\\pi}{3}))$\n",
    "\n",
    "\n",
    "<table>\n",
    "  <tr>\n",
    "    <td>$n$</td>\n",
    "    <td>$cos(n\\frac{\\pi}{3})$</td>\n",
    "    <td>$an$</td>\n",
    "  </tr>\n",
    "  <tr>\n",
    "      <td>$1$</td>\n",
    "      <td>$0.5$</td>\n",
    "      <td>$a1=0.6079$</td>\n",
    "   </tr>\n",
    "   <tr>\n",
    "      <td>$2$</td>\n",
    "      <td>$-0.5$</td>\n",
    "      <td>$a2=0.4559$</td>\n",
    "   </tr>\n",
    "   <tr>\n",
    "      <td>$3$</td>\n",
    "      <td>$-1$</td>\n",
    "      <td>$a3=0.2701$</td>\n",
    "   </tr>    \n",
    "   <tr>\n",
    "      <td>$4$</td>\n",
    "      <td>$-0.5$</td>\n",
    "      <td>$a4=0.1139$</td>\n",
    "   </tr>        \n",
    "   <tr>\n",
    "      <td>$5$</td>\n",
    "      <td>$0.5$</td>\n",
    "      <td>$a5=0.02431$</td>\n",
    "   </tr>        \n",
    "   <tr>\n",
    "      <td>$6$</td>\n",
    "      <td>$1$</td>\n",
    "      <td>$a6=0$</td>       \n",
    "   </tr>            \n",
    "    \n",
    "</table>"
   ]
  },
  {
   "cell_type": "markdown",
   "id": "db94ae27",
   "metadata": {},
   "source": [
    "Ahora utilicemos un poco de funciones de Python para chequear:"
   ]
  },
  {
   "cell_type": "code",
   "execution_count": 201,
   "id": "8016fff8",
   "metadata": {},
   "outputs": [
    {
     "name": "stdout",
     "output_type": "stream",
     "text": [
      "Vme = 1/3\n",
      "               \n",
      "               \n",
      "               \n",
      "  ⎛⎧        ⎛π⋅n⎞                                    ⎞\n",
      "  ⎜⎪  18⋅cos⎜───⎟                                    ⎟\n",
      "  ⎜⎪        ⎝ 3 ⎠     18                             ⎟\n",
      "  ⎜⎪- ─────────── + ─────  for n > -∞ ∧ n < ∞ ∧ n ≠ 0⎟\n",
      "2⋅⎜⎨      2  2       2  2                            ⎟\n",
      "  ⎜⎪     π ⋅n       π ⋅n                             ⎟\n",
      "  ⎜⎪                                                 ⎟\n",
      "  ⎜⎪          1                    otherwise         ⎟\n",
      "  ⎝⎩                                                 ⎠\n",
      "──────────────────────────────────────────────────────\n",
      "                          3                           \n",
      "               \n",
      "               \n",
      "               \n",
      "[1/3, 6/pi**2, 9/(2*pi**2), 8/(3*pi**2), 9/(8*pi**2), 6/(25*pi**2), 0, 6/(49*pi**2), 9/(32*pi**2), 8/(27*pi**2), 9/(50*pi**2), 6/(121*pi**2), 0, 6/(169*pi**2), 9/(98*pi**2), 8/(75*pi**2), 9/(128*pi**2), 6/(289*pi**2), 0, 6/(361*pi**2), 9/(200*pi**2), 8/(147*pi**2), 9/(242*pi**2), 6/(529*pi**2), 0, 6/(625*pi**2), 9/(338*pi**2), 8/(243*pi**2), 9/(392*pi**2), 6/(841*pi**2), 0, 6/(961*pi**2), 9/(512*pi**2), 8/(363*pi**2), 9/(578*pi**2), 6/(1225*pi**2), 0, 6/(1369*pi**2), 9/(722*pi**2), 8/(507*pi**2), 9/(800*pi**2), 6/(1681*pi**2), 0, 6/(1849*pi**2), 9/(968*pi**2), 8/(675*pi**2), 9/(1058*pi**2), 6/(2209*pi**2), 0, 6/(2401*pi**2), 9/(1250*pi**2), 8/(867*pi**2), 9/(1352*pi**2), 6/(2809*pi**2), 0, 6/(3025*pi**2), 9/(1568*pi**2), 8/(1083*pi**2), 9/(1682*pi**2), 6/(3481*pi**2), 0, 6/(3721*pi**2), 9/(1922*pi**2), 8/(1323*pi**2), 9/(2048*pi**2), 6/(4225*pi**2), 0, 6/(4489*pi**2), 9/(2312*pi**2), 8/(1587*pi**2), 9/(2450*pi**2), 6/(5041*pi**2), 0, 6/(5329*pi**2), 9/(2738*pi**2), 8/(1875*pi**2), 9/(2888*pi**2), 6/(5929*pi**2), 0, 6/(6241*pi**2), 9/(3200*pi**2), 8/(2187*pi**2), 9/(3362*pi**2), 6/(6889*pi**2), 0, 6/(7225*pi**2), 9/(3698*pi**2), 8/(2523*pi**2), 9/(3872*pi**2), 6/(7921*pi**2), 0, 6/(8281*pi**2), 9/(4232*pi**2), 8/(2883*pi**2), 9/(4418*pi**2), 6/(9025*pi**2), 0, 6/(9409*pi**2), 9/(4802*pi**2), 8/(3267*pi**2)]\n"
     ]
    }
   ],
   "source": [
    "#Importamos todo el modulo sympy\n",
    "from sympy import *\n",
    "#ademas importamos las variables simbolicas 'n' y 't'\n",
    "from sympy.abc import t, n\n",
    "\n",
    "Vme = (integrate(2*t+2, (t, -1, 0))+integrate(-2*t+2, (t, 0,1)))/6\n",
    "\n",
    "print (f\"Vme = {Vme}\")\n",
    "\n",
    "#Usamos la funcion pprint para mostrar ao\n",
    "\n",
    "Vme = (integrate(2*t+2, (t, -1, 0))+integrate(-2*t+2, (t, 0,1)))/6\n",
    "wo=(2*pi)/6\n",
    "print (\"               \")\n",
    "print (\"               \")\n",
    "print (\"               \")\n",
    "\n",
    "an = (integrate(((2*t+2)*(cos(n*wo*t))), (t, -1, 0))+integrate(((-2*t+2)*(cos(n*wo*t))), (t, 0, 1)))/3\n",
    "\n",
    "C_Armonicos=100\n",
    "\n",
    "pprint(an)\n",
    "\n",
    "x = range(1,C_Armonicos)\n",
    "an=[]\n",
    "an.append(Vme)\n",
    "for n in x:\n",
    "    an.append ((integrate(((2*t+2)*(cos(n*wo*t))), (t, -1, 0))+integrate(((-2*t+2)*(cos(n*wo*t))), (t, 0, 1)))/3  )\n",
    "print (\"               \")\n",
    "print (\"               \")\n",
    "print (\"               \")\n",
    "\n",
    "print(an)\n"
   ]
  },
  {
   "cell_type": "markdown",
   "id": "96b22a6e",
   "metadata": {},
   "source": [
    "Su hubiera Bn....."
   ]
  },
  {
   "cell_type": "code",
   "execution_count": 202,
   "id": "8dc3a7cd",
   "metadata": {},
   "outputs": [
    {
     "name": "stdout",
     "output_type": "stream",
     "text": [
      "0\n",
      "[0, 0, 0, 0, 0, 0]\n"
     ]
    }
   ],
   "source": [
    "bn = (integrate(((2*t+2)*(sin(n*wo*t))), (t, -1, 0))+integrate(((-2*t+2)*(sin(n*wo*t))), (t, 0, 1)))/3\n",
    "\n",
    "pprint(bn)\n",
    "\n",
    "x = range(1,7)\n",
    "bn=[]\n",
    "for n in x:\n",
    "    bn.append ((integrate(((2*t+2)*(sin(n*wo*t))), (t, -1, 0))+integrate(((-2*t+2)*(sin(n*wo*t))), (t, 0, 1)))/3  )\n",
    "\n",
    "\n",
    "print(bn)"
   ]
  },
  {
   "cell_type": "markdown",
   "id": "17af2870",
   "metadata": {},
   "source": [
    "\n",
    "\n"
   ]
  },
  {
   "cell_type": "code",
   "execution_count": 203,
   "id": "8d4f0f74",
   "metadata": {},
   "outputs": [
    {
     "name": "stdout",
     "output_type": "stream",
     "text": [
      "     ⎛π⋅t⎞        ⎛2⋅π⋅t⎞                     ⎛4⋅π⋅t⎞        ⎛5⋅π⋅t⎞        ⎛7\n",
      "6⋅cos⎜───⎟   9⋅cos⎜─────⎟                9⋅cos⎜─────⎟   6⋅cos⎜─────⎟   6⋅cos⎜─\n",
      "     ⎝ 3 ⎠        ⎝  3  ⎠   8⋅cos(π⋅t)        ⎝  3  ⎠        ⎝  3  ⎠        ⎝ \n",
      "────────── + ──────────── + ────────── + ──────────── + ──────────── + ───────\n",
      "     2              2             2             2              2              \n",
      "    π            2⋅π           3⋅π           8⋅π           25⋅π           49⋅π\n",
      "\n",
      "⋅π⋅t⎞        ⎛8⋅π⋅t⎞                       ⎛10⋅π⋅t⎞        ⎛11⋅π⋅t⎞        ⎛13\n",
      "────⎟   9⋅cos⎜─────⎟                  9⋅cos⎜──────⎟   6⋅cos⎜──────⎟   6⋅cos⎜──\n",
      " 3  ⎠        ⎝  3  ⎠   8⋅cos(3⋅π⋅t)        ⎝  3   ⎠        ⎝  3   ⎠        ⎝  \n",
      "───── + ──────────── + ──────────── + ───────────── + ───────────── + ────────\n",
      "2              2              2               2                2              \n",
      "           32⋅π           27⋅π            50⋅π            121⋅π           169⋅\n",
      "\n",
      "⋅π⋅t⎞        ⎛14⋅π⋅t⎞                       ⎛16⋅π⋅t⎞        ⎛17⋅π⋅t⎞        ⎛1\n",
      "────⎟   9⋅cos⎜──────⎟                  9⋅cos⎜──────⎟   6⋅cos⎜──────⎟   6⋅cos⎜─\n",
      "3   ⎠        ⎝  3   ⎠   8⋅cos(5⋅π⋅t)        ⎝  3   ⎠        ⎝  3   ⎠        ⎝ \n",
      "───── + ───────────── + ──────────── + ───────────── + ───────────── + ───────\n",
      " 2              2              2                2               2             \n",
      "π           98⋅π           75⋅π            128⋅π           289⋅π           361\n",
      "\n",
      "9⋅π⋅t⎞        ⎛20⋅π⋅t⎞                       ⎛22⋅π⋅t⎞        ⎛23⋅π⋅t⎞        ⎛\n",
      "─────⎟   9⋅cos⎜──────⎟                  9⋅cos⎜──────⎟   6⋅cos⎜──────⎟   6⋅cos⎜\n",
      " 3   ⎠        ⎝  3   ⎠   8⋅cos(7⋅π⋅t)        ⎝  3   ⎠        ⎝  3   ⎠        ⎝\n",
      "────── + ───────────── + ──────────── + ───────────── + ───────────── + ──────\n",
      "  2               2              2               2               2            \n",
      "⋅π           200⋅π          147⋅π           242⋅π           529⋅π           62\n",
      "\n",
      "25⋅π⋅t⎞        ⎛26⋅π⋅t⎞                       ⎛28⋅π⋅t⎞        ⎛29⋅π⋅t⎞        \n",
      "──────⎟   9⋅cos⎜──────⎟                  9⋅cos⎜──────⎟   6⋅cos⎜──────⎟   6⋅cos\n",
      "  3   ⎠        ⎝  3   ⎠   8⋅cos(9⋅π⋅t)        ⎝  3   ⎠        ⎝  3   ⎠        \n",
      "─────── + ───────────── + ──────────── + ───────────── + ───────────── + ─────\n",
      "   2               2              2               2               2           \n",
      "5⋅π           338⋅π          243⋅π           392⋅π           841⋅π           9\n",
      "\n",
      "⎛31⋅π⋅t⎞        ⎛32⋅π⋅t⎞                        ⎛34⋅π⋅t⎞        ⎛35⋅π⋅t⎞      \n",
      "⎜──────⎟   9⋅cos⎜──────⎟                   9⋅cos⎜──────⎟   6⋅cos⎜──────⎟   6⋅c\n",
      "⎝  3   ⎠        ⎝  3   ⎠   8⋅cos(11⋅π⋅t)        ⎝  3   ⎠        ⎝  3   ⎠      \n",
      "──────── + ───────────── + ───────────── + ───────────── + ───────────── + ───\n",
      "    2               2               2               2               2         \n",
      "61⋅π           512⋅π           363⋅π           578⋅π          1225⋅π          \n",
      "\n",
      "  ⎛37⋅π⋅t⎞        ⎛38⋅π⋅t⎞                        ⎛40⋅π⋅t⎞        ⎛41⋅π⋅t⎞    \n",
      "os⎜──────⎟   9⋅cos⎜──────⎟                   9⋅cos⎜──────⎟   6⋅cos⎜──────⎟   6\n",
      "  ⎝  3   ⎠        ⎝  3   ⎠   8⋅cos(13⋅π⋅t)        ⎝  3   ⎠        ⎝  3   ⎠    \n",
      "────────── + ───────────── + ───────────── + ───────────── + ───────────── + ─\n",
      "      2               2               2               2               2       \n",
      "1369⋅π           722⋅π           507⋅π           800⋅π          1681⋅π        \n",
      "\n",
      "    ⎛43⋅π⋅t⎞        ⎛44⋅π⋅t⎞                        ⎛46⋅π⋅t⎞        ⎛47⋅π⋅t⎞  \n",
      "⋅cos⎜──────⎟   9⋅cos⎜──────⎟                   9⋅cos⎜──────⎟   6⋅cos⎜──────⎟  \n",
      "    ⎝  3   ⎠        ⎝  3   ⎠   8⋅cos(15⋅π⋅t)        ⎝  3   ⎠        ⎝  3   ⎠  \n",
      "──────────── + ───────────── + ───────────── + ───────────── + ───────────── +\n",
      "        2               2               2               2               2     \n",
      "  1849⋅π           968⋅π           675⋅π          1058⋅π          2209⋅π      \n",
      "\n",
      "      ⎛49⋅π⋅t⎞        ⎛50⋅π⋅t⎞                        ⎛52⋅π⋅t⎞        ⎛53⋅π⋅t⎞\n",
      " 6⋅cos⎜──────⎟   9⋅cos⎜──────⎟                   9⋅cos⎜──────⎟   6⋅cos⎜──────⎟\n",
      "      ⎝  3   ⎠        ⎝  3   ⎠   8⋅cos(17⋅π⋅t)        ⎝  3   ⎠        ⎝  3   ⎠\n",
      " ───────────── + ───────────── + ───────────── + ───────────── + ─────────────\n",
      "          2               2               2               2               2   \n",
      "    2401⋅π          1250⋅π           867⋅π          1352⋅π          2809⋅π    \n",
      "\n",
      "        ⎛55⋅π⋅t⎞        ⎛56⋅π⋅t⎞                        ⎛58⋅π⋅t⎞        ⎛59⋅π⋅\n",
      "   6⋅cos⎜──────⎟   9⋅cos⎜──────⎟                   9⋅cos⎜──────⎟   6⋅cos⎜─────\n",
      "        ⎝  3   ⎠        ⎝  3   ⎠   8⋅cos(19⋅π⋅t)        ⎝  3   ⎠        ⎝  3  \n",
      " + ───────────── + ───────────── + ───────────── + ───────────── + ───────────\n",
      "            2               2               2               2               2 \n",
      "      3025⋅π          1568⋅π          1083⋅π          1682⋅π          3481⋅π  \n",
      "\n",
      "t⎞        ⎛61⋅π⋅t⎞        ⎛62⋅π⋅t⎞                        ⎛64⋅π⋅t⎞        ⎛65⋅\n",
      "─⎟   6⋅cos⎜──────⎟   9⋅cos⎜──────⎟                   9⋅cos⎜──────⎟   6⋅cos⎜───\n",
      " ⎠        ⎝  3   ⎠        ⎝  3   ⎠   8⋅cos(21⋅π⋅t)        ⎝  3   ⎠        ⎝  3\n",
      "── + ───────────── + ───────────── + ───────────── + ───────────── + ─────────\n",
      "              2               2               2               2               \n",
      "        3721⋅π          1922⋅π          1323⋅π          2048⋅π          4225⋅π\n",
      "\n",
      "π⋅t⎞        ⎛67⋅π⋅t⎞        ⎛68⋅π⋅t⎞                        ⎛70⋅π⋅t⎞        ⎛7\n",
      "───⎟   6⋅cos⎜──────⎟   9⋅cos⎜──────⎟                   9⋅cos⎜──────⎟   6⋅cos⎜─\n",
      "   ⎠        ⎝  3   ⎠        ⎝  3   ⎠   8⋅cos(23⋅π⋅t)        ⎝  3   ⎠        ⎝ \n",
      "──── + ───────────── + ───────────── + ───────────── + ───────────── + ───────\n",
      "2               2               2               2               2             \n",
      "          4489⋅π          2312⋅π          1587⋅π          2450⋅π          5041\n",
      "\n",
      "1⋅π⋅t⎞        ⎛73⋅π⋅t⎞        ⎛74⋅π⋅t⎞                        ⎛76⋅π⋅t⎞        \n",
      "─────⎟   6⋅cos⎜──────⎟   9⋅cos⎜──────⎟                   9⋅cos⎜──────⎟   6⋅cos\n",
      " 3   ⎠        ⎝  3   ⎠        ⎝  3   ⎠   8⋅cos(25⋅π⋅t)        ⎝  3   ⎠        \n",
      "────── + ───────────── + ───────────── + ───────────── + ───────────── + ─────\n",
      "  2               2               2               2               2           \n",
      "⋅π          5329⋅π          2738⋅π          1875⋅π          2888⋅π          59\n",
      "\n",
      "⎛77⋅π⋅t⎞        ⎛79⋅π⋅t⎞        ⎛80⋅π⋅t⎞                        ⎛82⋅π⋅t⎞      \n",
      "⎜──────⎟   6⋅cos⎜──────⎟   9⋅cos⎜──────⎟                   9⋅cos⎜──────⎟   6⋅c\n",
      "⎝  3   ⎠        ⎝  3   ⎠        ⎝  3   ⎠   8⋅cos(27⋅π⋅t)        ⎝  3   ⎠      \n",
      "──────── + ───────────── + ───────────── + ───────────── + ───────────── + ───\n",
      "    2               2               2               2               2         \n",
      "29⋅π          6241⋅π          3200⋅π          2187⋅π          3362⋅π          \n",
      "\n",
      "  ⎛83⋅π⋅t⎞        ⎛85⋅π⋅t⎞        ⎛86⋅π⋅t⎞                        ⎛88⋅π⋅t⎞    \n",
      "os⎜──────⎟   6⋅cos⎜──────⎟   9⋅cos⎜──────⎟                   9⋅cos⎜──────⎟   6\n",
      "  ⎝  3   ⎠        ⎝  3   ⎠        ⎝  3   ⎠   8⋅cos(29⋅π⋅t)        ⎝  3   ⎠    \n",
      "────────── + ───────────── + ───────────── + ───────────── + ───────────── + ─\n",
      "      2               2               2               2               2       \n",
      "6889⋅π          7225⋅π          3698⋅π          2523⋅π          3872⋅π        \n",
      "\n",
      "    ⎛89⋅π⋅t⎞        ⎛91⋅π⋅t⎞        ⎛92⋅π⋅t⎞                        ⎛94⋅π⋅t⎞  \n",
      "⋅cos⎜──────⎟   6⋅cos⎜──────⎟   9⋅cos⎜──────⎟                   9⋅cos⎜──────⎟  \n",
      "    ⎝  3   ⎠        ⎝  3   ⎠        ⎝  3   ⎠   8⋅cos(31⋅π⋅t)        ⎝  3   ⎠  \n",
      "──────────── + ───────────── + ───────────── + ───────────── + ───────────── +\n",
      "        2               2               2               2               2     \n",
      "  7921⋅π          8281⋅π          4232⋅π          2883⋅π          4418⋅π      \n",
      "\n",
      "      ⎛95⋅π⋅t⎞        ⎛97⋅π⋅t⎞        ⎛98⋅π⋅t⎞                    \n",
      " 6⋅cos⎜──────⎟   6⋅cos⎜──────⎟   9⋅cos⎜──────⎟                    \n",
      "      ⎝  3   ⎠        ⎝  3   ⎠        ⎝  3   ⎠   8⋅cos(33⋅π⋅t)   1\n",
      " ───────────── + ───────────── + ───────────── + ───────────── + ─\n",
      "          2               2               2               2      3\n",
      "    9025⋅π          9409⋅π          4802⋅π          3267⋅π        \n"
     ]
    }
   ],
   "source": [
    "ft=0\n",
    "lista=range(0,C_Armonicos)\n",
    "for n in lista: \n",
    "    ft=ft+an[n]*cos(n*wo*t)\n",
    "\n",
    "pprint(ft)\n"
   ]
  },
  {
   "cell_type": "code",
   "execution_count": 204,
   "id": "70888dcc",
   "metadata": {},
   "outputs": [
    {
     "data": {
      "image/png": "[encoded data removed]",
      "text/plain": [
       "<Figure size 432x288 with 1 Axes>"
      ]
     },
     "metadata": {
      "needs_background": "light"
     },
     "output_type": "display_data"
    }
   ],
   "source": [
    "from matplotlib import pyplot\n",
    "\n",
    "def f(t):\n",
    "    ft=0\n",
    "    lista=range(0,C_Armonicos)\n",
    "    for n in lista: \n",
    "        ft=ft+an[n]*cos(n*wo*t)\n",
    "    return ft\n",
    "\n",
    "# Valores del eje X que toma el gráfico.\n",
    "\n",
    "\n",
    "t=np.arange (-10, 10, 0.1)\n",
    "# Graficar ambas funciones.\n",
    "pyplot.plot(t, [f(i) for i in t],color='red')\n",
    "\n",
    "# Establecer el color de los ejes.\n",
    "pyplot.axhline(0, color=\"black\")\n",
    "pyplot.axvline(0, color=\"black\")\n",
    "\n",
    "pyplot.show()"
   ]
  },
  {
   "cell_type": "code",
   "execution_count": 205,
   "id": "677ec035",
   "metadata": {},
   "outputs": [
    {
     "data": {
      "image/png": "[encoded data removed]",
      "text/plain": [
       "<Figure size 432x288 with 1 Axes>"
      ]
     },
     "metadata": {
      "needs_background": "light"
     },
     "output_type": "display_data"
    }
   ],
   "source": [
    "from matplotlib import pyplot\n",
    "\n",
    "def f(t):\n",
    "    ft=0\n",
    "    lista=range(0,C_Armonicos)\n",
    "    for n in lista: \n",
    "        ft=ft+an[n]*cos(n*wo*t)\n",
    "    return ft\n",
    "\n",
    "# Valores del eje X que toma el gráfico.\n",
    "\n",
    "\n",
    "t=np.arange (-10, 10, 0.1)\n",
    "# Graficar ambas funciones.\n",
    "pyplot.plot(t, [f(i) for i in t],color='red')\n",
    "\n",
    "pyplot.plot(x1, [f1(i) for i in x1],color='blue')\n",
    "pyplot.plot(x2, [f2(i) for i in x2],color='blue')\n",
    "pyplot.plot(x3, [f3(i) for i in x3],color='blue')\n",
    "pyplot.plot(x4, [f3(i) for i in x4],color='blue')\n",
    "\n",
    "# Establecer el color de los ejes.\n",
    "pyplot.axhline(0, color=\"black\")\n",
    "pyplot.axvline(0, color=\"black\")\n",
    "\n",
    "pyplot.show()\n",
    "\n",
    "\n",
    "\n",
    "\n"
   ]
  },
  {
   "cell_type": "code",
   "execution_count": null,
   "id": "1d809b45",
   "metadata": {},
   "outputs": [],
   "source": []
  },
  {
   "cell_type": "code",
   "execution_count": null,
   "id": "b66e2b61",
   "metadata": {},
   "outputs": [],
   "source": []
  },
  {
   "cell_type": "code",
   "execution_count": null,
   "id": "2bfe2a22",
   "metadata": {},
   "outputs": [],
   "source": []
  }
 ],
 "metadata": {
  "kernelspec": {
   "display_name": "Python 3 (ipykernel)",
   "language": "python",
   "name": "python3"
  },
  "language_info": {
   "codemirror_mode": {
    "name": "ipython",
    "version": 3
   },
   "file_extension": ".py",
   "mimetype": "text/x-python",
   "name": "python",
   "nbconvert_exporter": "python",
   "pygments_lexer": "ipython3",
   "version": "3.9.7"
  }
 },
 "nbformat": 4,
 "nbformat_minor": 5
}
