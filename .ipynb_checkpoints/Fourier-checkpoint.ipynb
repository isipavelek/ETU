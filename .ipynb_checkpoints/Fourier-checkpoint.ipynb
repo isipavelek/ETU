{
 "cells": [
  {
   "cell_type": "markdown",
   "id": "f4cc7b7f",
   "metadata": {},
   "source": [
    "# Ejemplo de calculo de serie de Fourier\n",
    "\n",
    "Prof. Pavelek Israel"
   ]
  },
  {
   "cell_type": "markdown",
   "id": "224990c4",
   "metadata": {},
   "source": [
    "### Función a trabajar:\n",
    "\\begin{equation} f(t)= \\left\\{ \\begin{array}{lcc}\n",
    "             0 &   si  & 0 < t < 3 \\\\\n",
    "             \\\\ 2t -6 &  si & 3 < t < 4 \\\\\n",
    "             \\\\ -2t +10 &  si & 4 < t < 5 \\\\\n",
    "             \\\\ 0 &   si  & 5 < t < 6 \\\\\n",
    "             \\end{array}\n",
    "   \\right.\n",
    "\\end{equation}"
   ]
  },
  {
   "cell_type": "code",
   "execution_count": 15,
   "id": "1996f821",
   "metadata": {},
   "outputs": [
    {
     "data": {
      "image/png": "[encoded data removed]",
      "text/plain": [
       "<Figure size 432x288 with 1 Axes>"
      ]
     },
     "metadata": {
      "needs_background": "light"
     },
     "output_type": "display_data"
    }
   ],
   "source": [
    "import numpy as np\n",
    "from matplotlib import pyplot\n",
    "\n",
    "def f1(x):\n",
    "    return 2*(x) - 6\n",
    "\n",
    "def f2(x):\n",
    "    return -2*x + 10\n",
    "def f3(x):\n",
    "    return 0\n",
    "# Valores del eje X que toma el gráfico.\n",
    "x1 = range(3, 5)\n",
    "x2 = range(4, 6)\n",
    "x3 = range(0, 4)\n",
    "x4 = range(5, 7)\n",
    "# Graficar ambas funciones.\n",
    "pyplot.plot(x1, [f1(i) for i in x1],color='red')\n",
    "pyplot.plot(x2, [f2(i) for i in x2],color='red')\n",
    "pyplot.plot(x3, [f3(i) for i in x3],color='red')\n",
    "pyplot.plot(x4, [f3(i) for i in x4],color='red')\n",
    "\n",
    "# Establecer el color de los ejes.\n",
    "pyplot.axhline(0, color=\"black\")\n",
    "pyplot.axvline(0, color=\"black\")\n",
    "# Limitar los valores de los ejes.\n",
    "#pyplot.xlim(-10, 10)\n",
    "#pyplot.ylim(-10, 10)\n",
    "# Mostrarlo.\n",
    "pyplot.show()"
   ]
  },
  {
   "cell_type": "code",
   "execution_count": 16,
   "id": "7f3d9fd2",
   "metadata": {},
   "outputs": [
    {
     "ename": "SyntaxError",
     "evalue": "invalid syntax (Temp/ipykernel_33356/3360466960.py, line 1)",
     "output_type": "error",
     "traceback": [
      "\u001b[1;36m  File \u001b[1;32m\"C:\\Users\\ipave\\AppData\\Local\\Temp/ipykernel_33356/3360466960.py\"\u001b[1;36m, line \u001b[1;32m1\u001b[0m\n\u001b[1;33m    Esta función tiene el mismo contenido armónico que la función desplazada a la izquierda que podemos hacer simétrica (par)\u001b[0m\n\u001b[1;37m         ^\u001b[0m\n\u001b[1;31mSyntaxError\u001b[0m\u001b[1;31m:\u001b[0m invalid syntax\n"
     ]
    }
   ],
   "source": [
    "Esta función tiene el mismo contenido armónico que la función desplazada a la izquierda que podemos hacer simétrica (par)"
   ]
  },
  {
   "cell_type": "code",
   "execution_count": 17,
   "id": "cf07cfcb",
   "metadata": {},
   "outputs": [
    {
     "data": {
      "image/png": "[encoded data removed]",
      "text/plain": [
       "<Figure size 432x288 with 1 Axes>"
      ]
     },
     "metadata": {
      "needs_background": "light"
     },
     "output_type": "display_data"
    }
   ],
   "source": [
    "\n",
    "def f1(x):\n",
    "    return 2*(x) + 2\n",
    "\n",
    "def f2(x):\n",
    "    return -2*x + 2\n",
    "def f3(x):\n",
    "    return 0\n",
    "# Valores del eje X que toma el gráfico.\n",
    "x1 = range(-1, 1)\n",
    "x2 = range(0, 2)\n",
    "x3 = range(-4, 0)\n",
    "x4 = range(1,3)\n",
    "# Graficar ambas funciones.\n",
    "pyplot.plot(x1, [f1(i) for i in x1],color='red')\n",
    "pyplot.plot(x2, [f2(i) for i in x2],color='red')\n",
    "pyplot.plot(x3, [f3(i) for i in x3],color='red')\n",
    "pyplot.plot(x4, [f3(i) for i in x4],color='red')\n",
    "\n",
    "# Establecer el color de los ejes.\n",
    "pyplot.axhline(0, color=\"black\")\n",
    "pyplot.axvline(0, color=\"black\")\n",
    "# Limitar los valores de los ejes.\n",
    "#pyplot.xlim(-10, 10)\n",
    "#pyplot.ylim(-10, 10)\n",
    "# Mostrarlo.\n",
    "pyplot.show()"
   ]
  },
  {
   "cell_type": "markdown",
   "id": "039595f8",
   "metadata": {},
   "source": [
    "Cuya expresión es:"
   ]
  },
  {
   "cell_type": "markdown",
   "id": "b7796aa8",
   "metadata": {},
   "source": [
    "\\begin{equation} f(t)= \\left\\{ \\begin{array}{lcc}\n",
    "             0 &   si  & -4 < t < -1 \\\\\n",
    "             \\\\ 2t +2 &  si & -1 < t < 0 \\\\\n",
    "             \\\\ -2t +2 &  si & 0 < t < 1 \\\\\n",
    "             \\\\ 0 &   si  & 1 < t < 2 \\\\\n",
    "             \\end{array}\n",
    "   \\right.\n",
    "\\end{equation}"
   ]
  },
  {
   "cell_type": "markdown",
   "id": "74151e52",
   "metadata": {},
   "source": [
    "$An=\\frac{1}{T} \\int_{0}^{T} f(t) dt$\n",
    "\n",
    "$an=\\frac{2}{T} \\int_{0}^{T} f(t) \\cdot cos (n\\omega_o t) dt$\n",
    "\n",
    "$bn=\\frac{2}{T} \\int_{0}^{T} f(t) \\cdot sin (n\\omega_o t) dt$\n",
    "\n",
    "Para nuestro caso:\n",
    "\n",
    "$An=\\frac{base\\cdot altura}{2\\cdot T}$\n",
    "\n",
    "$An=\\frac{2\\cdot 2}{2\\cdot 6}=\\frac{1}{3}$\n",
    "\n",
    "Calculo an:\n",
    "\n",
    "$an=\\frac{1}{3} \\int_{-1}^{0} (2t+2) \\cdot cos (n\\omega_o t) dt+\\frac{1}{3} \\int_{0}^{1} (-2t+2) \\cdot cos (n\\omega_o t) dt$\n",
    "\n",
    "$an=\\frac{1}{3} [\\int_{-1}^{0} 2tcos (n\\omega_o t)dt + \\int_{-1}^{0} 2cos(n\\omega_o t)dt]+\\frac{1}{3} [\\int_{0}^{1} -2tcos (n\\omega_o t)dt + \\int_{0}^{1} 2cos(n\\omega_o t)dt]$\n",
    "\n",
    "de la tabla de integrales:\n",
    "\n",
    "$\\int cos (ax) dx = \\frac{sin (ax)}{a}$\n",
    "\n",
    "$\\int t\\cdot cos (ax) dx = \\frac{cos (ax)}{a^2}+\\frac{x \\cdot sin (ax)}{a}$\n",
    "\n",
    "$an=\\frac{1}{3} [\\int_{-1}^{0} 2t\\cdot cos (n\\omega_o t)dt + \\int_{-1}^{0} 2\\cdot cos(n\\omega_o t)dt]+\\frac{1}{3} [\\int_{0}^{1} -2t\\cdot cos (n\\omega_o t)dt + \\int_{0}^{1} 2\\cdot cos(n\\omega_o t)dt]$\n",
    "\n",
    "$an=\\frac{2}{3} [\\int_{-1}^{0} t\\cdot cos (n\\omega_o t)dt + \\int_{-1}^{0} cos(n\\omega_o t)dt]+\\frac{2}{3} [\\int_{0}^{1} -t\\cdot cos (n\\omega_o t)dt + \\int_{0}^{1} cos(n\\omega_o t)dt]$\n",
    "\n",
    "$an=\\frac{2}{3} [[\\frac{cos (n\\omega_o t)}{(n\\omega_o)^2}+\\frac{t \\cdot sin (n\\omega_o t)}{n\\omega_o}]|_{-1}^{0}+ [ \\frac{sin (n\\omega_o t)}{(n\\omega_o)}]|_{-1}^{0}]+\\frac{2}{3} [-[\\frac{cos (n\\omega_o t)}{(n\\omega_o)^2}+\\frac{t \\cdot sin (n\\omega_o t)}{n\\omega_o}]|_{0}^{1}+ [ \\frac{sin (n\\omega_o t)}{(n\\omega_o)}]|_{0}^{1}]$\n",
    "\n",
    "\n",
    "\n",
    "\n",
    "\n"
   ]
  },
  {
   "cell_type": "markdown",
   "id": "a9cc6949",
   "metadata": {},
   "source": [
    "Aplicando Barrow:\n",
    "\n",
    "$an=\\frac{2}{3} [\\frac{1}{(n\\omega_o)^2}-[\\frac{cos (-n\\omega_o)}{(n\\omega_o)^2}+\\frac{- \\cdot sin (-n\\omega_o)}{(n\\omega_o)}]- \\frac{sin (-n\\omega_o)}{(n\\omega_o)}]+\\frac{2}{3} [-[\\frac{cos (n\\omega_o)}{(n\\omega_o)^2}+\\frac{sin (n\\omega_o)}{(n\\omega_o)}-\\frac{1}{(n\\omega_o)^2}]+ \\frac{sin (n\\omega_o)}{(n\\omega_o)}]$\n",
    "\n",
    "\n",
    "$an=\\frac{2}{3} [\\frac{1}{(n\\omega_o)^2}-\\frac{cos (-n\\omega_o)}{(n\\omega_o)^2}+\\frac{\\cdot sin (-n\\omega_o)}{(n\\omega_o)}- \\frac{sin (-n\\omega_o)}{(n\\omega_o)}]+\\frac{2}{3} [-\\frac{cos (n\\omega_o)}{(n\\omega_o)^2}-\\frac{ sin (n\\omega_o)}{(n\\omega_o)}+\\frac{1}{(n\\omega_o)^2}+ \\frac{sin (n\\omega_o)}{(n\\omega_o)}]$\n",
    "\n",
    "Simplificando:\n",
    "\n",
    "$an=\\frac{2}{3} [\\frac{1}{(n\\omega_o)^2}-\\frac{cos (-n\\omega_o)}{(n\\omega_o)^2}]+\\frac{2}{3} [-\\frac{cos (n\\omega_o)}{(n\\omega_o)^2}+\\frac{1}{(n\\omega_o)^2}]$\n",
    "\n",
    "\n",
    "Recordando que la funcion cos(x) es una función par f(x)=f(-x)\n",
    "\n",
    "$an=\\frac{2}{3} [\\frac{1}{(n\\omega_o)^2}-\\frac{cos (n\\omega_o)}{(n\\omega_o)^2}]+\\frac{2}{3} [-\\frac{cos (n\\omega_o)}{(n\\omega_o)^2}+\\frac{1}{(n\\omega_o)^2}]$\n",
    "\n",
    "Agurpando:\n",
    "\n",
    "$an=\\frac{4}{3} [\\frac{1}{(n\\omega_o)^2}-\\frac{cos (n\\omega_o)}{(n\\omega_o)^2}]$\n",
    "\n",
    "Recordamos que $\\omega_0=\\frac{2\\pi}{T}$\n",
    "\n",
    "Como T=6\n",
    "Recordamos que $\\omega_0=\\frac{2\\pi}{6}$\n",
    "\n",
    "$\\omega_0=\\frac{\\pi}{3}$\n",
    "\n",
    "$an=\\frac{4}{3} (\\frac{9}{(n\\pi)^2}-\\frac{9 \\cdot sin (n\\frac{\\pi}{3})}{(n\\pi)^2})$\n",
    "\n",
    "$an=\\frac{12}{n^2\\pi^2} \\cdot (1-cos (n\\frac{\\pi}{3}))$\n",
    "\n",
    "\n",
    "<table>\n",
    "  <tr>\n",
    "    <td>$n$</td>\n",
    "    <td>$cos(n\\frac{\\pi}{3})$</td>\n",
    "    <td>$an$</td>\n",
    "  </tr>\n",
    "  <tr>\n",
    "      <td>$1$</td>\n",
    "      <td>$0.5$</td>\n",
    "      <td>$a1=0.6079$</td>\n",
    "   </tr>\n",
    "   <tr>\n",
    "      <td>$2$</td>\n",
    "      <td>$-0.5$</td>\n",
    "      <td>$a2=0.4559$</td>\n",
    "   </tr>\n",
    "   <tr>\n",
    "      <td>$3$</td>\n",
    "      <td>$-1$</td>\n",
    "      <td>$a3=0.2701$</td>\n",
    "   </tr>    \n",
    "   <tr>\n",
    "      <td>$4$</td>\n",
    "      <td>$-0.5$</td>\n",
    "      <td>$a4=0.1139$</td>\n",
    "   </tr>        \n",
    "   <tr>\n",
    "      <td>$5$</td>\n",
    "      <td>$0.5$</td>\n",
    "      <td>$a5=0.02431$</td>\n",
    "   </tr>        \n",
    "   <tr>\n",
    "      <td>$6$</td>\n",
    "      <td>$1$</td>\n",
    "      <td>$a6=0$</td>       \n",
    "   </tr>            \n",
    "    \n",
    "</table>"
   ]
  },
  {
   "cell_type": "markdown",
   "id": "db94ae27",
   "metadata": {},
   "source": [
    "Ahora utilicemos un poco de funciones de Python para chequear:"
   ]
  },
  {
   "cell_type": "code",
   "execution_count": 18,
   "id": "8016fff8",
   "metadata": {},
   "outputs": [
    {
     "name": "stdout",
     "output_type": "stream",
     "text": [
      "Vme = 1/3\n",
      "               \n",
      "               \n",
      "               \n",
      "  ⎛⎧        ⎛π⋅n⎞                                    ⎞\n",
      "  ⎜⎪  18⋅cos⎜───⎟                                    ⎟\n",
      "  ⎜⎪        ⎝ 3 ⎠     18                             ⎟\n",
      "  ⎜⎪- ─────────── + ─────  for n > -∞ ∧ n < ∞ ∧ n ≠ 0⎟\n",
      "2⋅⎜⎨      2  2       2  2                            ⎟\n",
      "  ⎜⎪     π ⋅n       π ⋅n                             ⎟\n",
      "  ⎜⎪                                                 ⎟\n",
      "  ⎜⎪          1                    otherwise         ⎟\n",
      "  ⎝⎩                                                 ⎠\n",
      "──────────────────────────────────────────────────────\n",
      "                          3                           \n",
      "               \n",
      "               \n",
      "               \n",
      "[1/3, 6/pi**2, 9/(2*pi**2), 8/(3*pi**2), 9/(8*pi**2), 6/(25*pi**2), 0, 6/(49*pi**2), 9/(32*pi**2), 8/(27*pi**2)]\n"
     ]
    }
   ],
   "source": [
    "from sympy import *\n",
    "from sympy.abc import t, n\n",
    "\n",
    "Vme = (integrate(2*t+2, (t, -1, 0))+integrate(-2*t+2, (t, 0,1)))/6\n",
    "\n",
    "print (f\"Vme = {Vme}\")\n",
    "\n",
    "#Usamos la funcion pprint para mostrar ao\n",
    "\n",
    "Vme = (integrate(2*t+2, (t, -1, 0))+integrate(-2*t+2, (t, 0,1)))/6\n",
    "wo=(2*pi)/6\n",
    "print (\"               \")\n",
    "print (\"               \")\n",
    "print (\"               \")\n",
    "\n",
    "an = (integrate(((2*t+2)*(cos(n*wo*t))), (t, -1, 0))+integrate(((-2*t+2)*(cos(n*wo*t))), (t, 0, 1)))/3\n",
    "\n",
    "C_Armonicos=10\n",
    "\n",
    "pprint(an)\n",
    "\n",
    "x = range(1,C_Armonicos)\n",
    "an=[]\n",
    "an.append(Vme)\n",
    "for n in x:\n",
    "    an.append ((integrate(((2*t+2)*(cos(n*wo*t))), (t, -1, 0))+integrate(((-2*t+2)*(cos(n*wo*t))), (t, 0, 1)))/3  )\n",
    "print (\"               \")\n",
    "print (\"               \")\n",
    "print (\"               \")\n",
    "\n",
    "print(an)\n"
   ]
  },
  {
   "cell_type": "markdown",
   "id": "96b22a6e",
   "metadata": {},
   "source": [
    "Su hubiera Bn....."
   ]
  },
  {
   "cell_type": "code",
   "execution_count": 19,
   "id": "8dc3a7cd",
   "metadata": {},
   "outputs": [
    {
     "name": "stdout",
     "output_type": "stream",
     "text": [
      "0\n",
      "[0, 0, 0, 0, 0, 0]\n"
     ]
    }
   ],
   "source": [
    "bn = (integrate(((2*t+2)*(sin(n*wo*t))), (t, -1, 0))+integrate(((-2*t+2)*(sin(n*wo*t))), (t, 0, 1)))/3\n",
    "\n",
    "pprint(bn)\n",
    "\n",
    "x = range(1,7)\n",
    "bn=[]\n",
    "for n in x:\n",
    "    bn.append ((integrate(((2*t+2)*(sin(n*wo*t))), (t, -1, 0))+integrate(((-2*t+2)*(sin(n*wo*t))), (t, 0, 1)))/3  )\n",
    "\n",
    "\n",
    "print(bn)"
   ]
  },
  {
   "cell_type": "markdown",
   "id": "17af2870",
   "metadata": {},
   "source": [
    "\n",
    "\n"
   ]
  },
  {
   "cell_type": "code",
   "execution_count": 20,
   "id": "8d4f0f74",
   "metadata": {},
   "outputs": [
    {
     "name": "stdout",
     "output_type": "stream",
     "text": [
      "     ⎛π⋅t⎞        ⎛2⋅π⋅t⎞                     ⎛4⋅π⋅t⎞        ⎛5⋅π⋅t⎞        ⎛7\n",
      "6⋅cos⎜───⎟   9⋅cos⎜─────⎟                9⋅cos⎜─────⎟   6⋅cos⎜─────⎟   6⋅cos⎜─\n",
      "     ⎝ 3 ⎠        ⎝  3  ⎠   8⋅cos(π⋅t)        ⎝  3  ⎠        ⎝  3  ⎠        ⎝ \n",
      "────────── + ──────────── + ────────── + ──────────── + ──────────── + ───────\n",
      "     2              2             2             2              2              \n",
      "    π            2⋅π           3⋅π           8⋅π           25⋅π           49⋅π\n",
      "\n",
      "⋅π⋅t⎞        ⎛8⋅π⋅t⎞                   \n",
      "────⎟   9⋅cos⎜─────⎟                   \n",
      " 3  ⎠        ⎝  3  ⎠   8⋅cos(3⋅π⋅t)   1\n",
      "───── + ──────────── + ──────────── + ─\n",
      "2              2              2       3\n",
      "           32⋅π           27⋅π         \n"
     ]
    }
   ],
   "source": [
    "ft=0\n",
    "lista=range(0,C_Armonicos)\n",
    "for n in lista: \n",
    "    ft=ft+an[n]*cos(n*wo*t)\n",
    "\n",
    "pprint(ft)\n"
   ]
  },
  {
   "cell_type": "code",
   "execution_count": 21,
   "id": "70888dcc",
   "metadata": {},
   "outputs": [
    {
     "data": {
      "image/png": "[encoded data removed]",
      "text/plain": [
       "<Figure size 432x288 with 1 Axes>"
      ]
     },
     "metadata": {
      "needs_background": "light"
     },
     "output_type": "display_data"
    }
   ],
   "source": [
    "\n",
    "def f(t):\n",
    "    ft=0\n",
    "    lista=range(0,C_Armonicos)\n",
    "    for n in lista: \n",
    "        ft=ft+an[n]*cos(n*wo*t)\n",
    "    return ft\n",
    "\n",
    "# Valores del eje X que toma el gráfico.\n",
    "\n",
    "\n",
    "t=np.arange (-10, 10, 0.1)\n",
    "# Graficar ambas funciones.\n",
    "pyplot.plot(t, [f(i) for i in t],color='red')\n",
    "\n",
    "# Establecer el color de los ejes.\n",
    "pyplot.axhline(0, color=\"black\")\n",
    "pyplot.axvline(0, color=\"black\")\n",
    "\n",
    "pyplot.show()"
   ]
  },
  {
   "cell_type": "code",
   "execution_count": 22,
   "id": "677ec035",
   "metadata": {},
   "outputs": [
    {
     "data": {
      "image/png": "[encoded data removed]",
      "text/plain": [
       "<Figure size 432x288 with 1 Axes>"
      ]
     },
     "metadata": {
      "needs_background": "light"
     },
     "output_type": "display_data"
    }
   ],
   "source": [
    "# Valores del eje X que toma el gráfico.\n",
    "\n",
    "\n",
    "t=np.arange (-10, 10, 0.1)\n",
    "# Graficar ambas funciones.\n",
    "pyplot.plot(t, [f(i) for i in t],color='red')\n",
    "\n",
    "pyplot.plot(x1, [f1(i) for i in x1],color='blue')\n",
    "pyplot.plot(x2, [f2(i) for i in x2],color='blue')\n",
    "pyplot.plot(x3, [f3(i) for i in x3],color='blue')\n",
    "pyplot.plot(x4, [f3(i) for i in x4],color='blue')\n",
    "\n",
    "# Establecer el color de los ejes.\n",
    "pyplot.axhline(0, color=\"black\")\n",
    "pyplot.axvline(0, color=\"black\")\n",
    "\n",
    "pyplot.show()\n",
    "\n",
    "\n",
    "\n",
    "\n"
   ]
  },
  {
   "cell_type": "code",
   "execution_count": null,
   "id": "7ebbfc24",
   "metadata": {},
   "outputs": [],
   "source": []
  }
 ],
 "metadata": {
  "kernelspec": {
   "display_name": "Python 3 (ipykernel)",
   "language": "python",
   "name": "python3"
  },
  "language_info": {
   "codemirror_mode": {
    "name": "ipython",
    "version": 3
   },
   "file_extension": ".py",
   "mimetype": "text/x-python",
   "name": "python",
   "nbconvert_exporter": "python",
   "pygments_lexer": "ipython3",
   "version": "3.9.7"
  }
 },
 "nbformat": 4,
 "nbformat_minor": 5
}
