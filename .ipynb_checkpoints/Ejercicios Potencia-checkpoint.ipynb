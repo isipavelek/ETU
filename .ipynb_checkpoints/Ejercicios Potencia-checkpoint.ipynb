{
 "cells": [
  {
   "cell_type": "markdown",
   "id": "4428e62c",
   "metadata": {},
   "source": [
    "### Valores caracteristicos\n"
   ]
  },
  {
   "cell_type": "code",
   "execution_count": 13,
   "id": "54d7f980",
   "metadata": {},
   "outputs": [
    {
     "data": {
      "image/png": "[encoded data removed]",
      "text/plain": [
       "<Figure size 432x288 with 1 Axes>"
      ]
     },
     "metadata": {
      "needs_background": "light"
     },
     "output_type": "display_data"
    }
   ],
   "source": [
    "import numpy as np\n",
    "from matplotlib import pyplot\n",
    "\n",
    "def f1(t):\n",
    "    return 4*(t) + 6\n",
    "\n",
    "# Valores del eje X que toma el gráfico.\n",
    "\n",
    "t1 = range(0, 2)\n",
    "# Graficar ambas funciones.\n",
    "pyplot.plot(t1, [f1(i) for i in t1],color='red')\n",
    "\n",
    "# Establecer el color de los ejes.\n",
    "pyplot.axhline(0, color=\"black\")\n",
    "pyplot.axvline(0, color=\"black\")\n",
    "# Mostrarlo.\n",
    "pyplot.show()"
   ]
  },
  {
   "cell_type": "markdown",
   "id": "6ebccf36",
   "metadata": {},
   "source": [
    "## ejercicio 1\n",
    "\n",
    "\n",
    "$f(t)= \\frac{4}{T} \\cdot t+6$   $si   0 < t < T  $\n",
    "   \n",
    "\n",
    "$Vme=\\frac{1}{T} \\int_{0}^{T} f(t) dt$\n",
    "\n",
    "$Vme=\\frac{1}{T} \\int_{0}^{T} (\\frac{4}{T}\\cdot t+6) dt$\n",
    "\n",
    "$Vme=\\frac{1}{T} [\\int_{0}^{T} \\frac{4}{T}\\cdot t dt + \\int_{0}^{T} 6 dt]$\n",
    "\n",
    "$Vme=\\frac{1}{T} [\\frac{4}{T} \\int_{0}^{T} t dt +  6 \\cdot \\int_{0}^{T} dt]$\n",
    "\n",
    "$Vme=\\frac{1}{T} [\\frac{4}{T} \\frac{t^2}{2}|_{0}^{T} +  6 \\cdot t |_{0}^{T}]$\n",
    "\n",
    "$Vme=\\frac{1}{T} [\\frac{4}{T} \\frac{T^2}{2} +  6 \\cdot T]$\n",
    "\n",
    "$Vme=\\frac{1}{T} [2\\cdot T +  6 \\cdot T]$\n",
    "\n",
    "$Vme=\\frac{1}{T} [8\\cdot T]$\n",
    "\n",
    "$Vme=8$\n",
    "\n",
    "Vmedio en modulo igual al Vme por no tener parte negativa.\n",
    "\n",
    "Por area:\n",
    "\n",
    "$Vme=\\frac{T\\cdot 6 + 4 \\cdot \\frac{T}{2}}{T}$\n",
    "\n",
    "$Vme=\\frac{8T}{T}=8$\n",
    "\n",
    "\n"
   ]
  },
  {
   "cell_type": "markdown",
   "id": "c3e05a45",
   "metadata": {},
   "source": [
    "$Vef^2=\\frac{1}{T} \\int_{0}^{T} f(t)^2 dt$\n",
    "\n",
    "$Vef^2=\\frac{1}{T} \\int_{0}^{T} (\\frac{4}{T}\\cdot t+6)^2 dt$\n",
    "\n",
    "$Vef^2=\\frac{1}{T} \\int_{0}^{T} (\\frac{16t^2}{T^2}+\\frac{48t}{T}+ 36 ) dt$\n",
    "\n",
    "$Vef^2=\\frac{1}{T} [\\frac{16}{T^2} \\int_{0}^{T} t^2 dt + \\frac{48}{T}\\int_{0}^{T} t dt + \\int_{0}^{T}  36 dt]$\n",
    "\n",
    "$Vef^2=\\frac{1}{T} [\\frac{16}{T^2} \\frac{T^3}{3} + \\frac{48}{T} \\frac{T^2}{2} + 36 T ]$\n",
    "\n",
    "$Vef^2=\\frac{1}{T} [\\frac{16}{3} T + 24 T + 36 T ]$\n",
    "\n",
    "$Vef^2=\\frac{1}{T} [\\frac{196T}{3} ]$\n",
    "\n",
    "$Vef^2=\\frac{196}{3}$\n",
    "\n",
    "$Vef=\\sqrt{\\frac{196}{3}}$\n",
    "\n",
    "$Vef=\\frac{14}{\\sqrt3}=8.0829$\n",
    "\n",
    "\n"
   ]
  },
  {
   "cell_type": "markdown",
   "id": "9ae18da3",
   "metadata": {},
   "source": [
    "## ejercicio 2"
   ]
  },
  {
   "cell_type": "code",
   "execution_count": 22,
   "id": "5e8e7ffe",
   "metadata": {},
   "outputs": [
    {
     "data": {
      "image/png": "[encoded data removed]",
      "text/plain": [
       "<Figure size 432x288 with 1 Axes>"
      ]
     },
     "metadata": {
      "needs_background": "light"
     },
     "output_type": "display_data"
    }
   ],
   "source": [
    "def f1(t):\n",
    "    return 2*np.sin(2*t) +3\n",
    "\n",
    "# Valores del eje X que toma el gráfico.\n",
    "\n",
    "t1 = np.arange(0, 3.14,0.01)\n",
    "# Graficar ambas funciones.\n",
    "pyplot.plot(t1, [f1(i) for i in t1],color='red')\n",
    "\n",
    "# Establecer el color de los ejes.\n",
    "pyplot.axhline(0, color=\"black\")\n",
    "pyplot.axvline(0, color=\"black\")\n",
    "# Mostrarlo.\n",
    "pyplot.show()"
   ]
  },
  {
   "cell_type": "markdown",
   "id": "473b0f9d",
   "metadata": {},
   "source": [
    "\n",
    "$f(t)= 2\\cdot sin(2t)+3 $\n",
    "   \n",
    "\n",
    "$Vme=\\frac{1}{T} \\int_{0}^{T} f(t) dt$\n",
    "\n",
    "$Vme=\\frac{1}{\\pi} \\int_{0}^{\\pi} (2 \\cdot sin(2t)+3) dt$\n",
    "\n",
    "$Vme=\\frac{1}{\\pi} [2 \\cdot \\int_{0}^{\\pi} sin(2t) dt + 3\\int_{0}^{\\pi} dt]$\n",
    "\n",
    "$Vme=\\frac{1}{\\pi} [2 \\frac{-cos(2t)}{2}|_{0}^{\\pi} + 3 t|_{0}^{\\pi}]$\n",
    "\n",
    "$Vme=\\frac{1}{\\pi} [-cos(2\\pi)+cos(0) + 3 \\pi ]$\n",
    "\n",
    "$Vme=\\frac{1}{\\pi} [-1+ 1 + 3 \\pi ]$\n",
    "\n",
    "$Vme=\\frac{1}{\\pi} [3 \\pi ]$\n",
    "\n",
    "$Vme=3$\n",
    "\n",
    "Vmedio en modulo igual al Vme por no tener parte negativa.\n"
   ]
  },
  {
   "cell_type": "markdown",
   "id": "f52d48aa",
   "metadata": {},
   "source": [
    "$Vef^2=\\frac{1}{T} \\int_{0}^{T} f(t)^2 dt$\n",
    "\n",
    "\n",
    "$Vef^2=\\frac{1}{\\pi} \\int_{0}^{\\pi} (2 \\cdot sin(2t)+3)^2 dt$\n",
    "\n",
    "$Vef^2=\\frac{1}{\\pi} \\int_{0}^{\\pi} (4 \\cdot sin^2(2t)+12 sin (2t)+9)dt$\n",
    "\n",
    "$Vef^2=\\frac{1}{\\pi} [4 \\int_{0}^{\\pi} sin^2(2t)dt +12  \\int_{0}^{\\pi} sin (2t)dt+ 9 \\int_{0}^{\\pi}dt]$\n",
    "\n",
    "$Vef^2=\\frac{1}{\\pi} [4 (\\frac{t}{2}-\\frac{sin(2t)}{8}|_{0}^{\\pi}) +6 (-cos(2t) |_{0}^{\\pi}+ 9 t|_{0}^{\\pi}]$\n",
    "\n",
    "$Vef^2=\\frac{1}{\\pi} [4 (\\frac{\\pi}{2}) +6 (-1+1) + 9 \\pi]$"
   ]
  },
  {
   "cell_type": "markdown",
   "id": "fc5b5c27",
   "metadata": {},
   "source": [
    "$Vef^2=\\frac{1}{\\pi} [4 (\\frac{\\pi}{2}) + 9 \\pi]$\n",
    "\n",
    "\n",
    "$Vef^2=\\frac{1}{\\pi} [4 (\\frac{\\pi}{2}) + 9 \\pi]$\n",
    "\n",
    "$Vef^2=\\frac{1}{\\pi} [11\\pi]$\n",
    "\n",
    "$Vef^2=11$\n",
    "\n",
    "$Vef^2=\\sqrt{11}$"
   ]
  },
  {
   "cell_type": "markdown",
   "id": "71b23338",
   "metadata": {},
   "source": [
    "## Ejercicio 3\n"
   ]
  },
  {
   "cell_type": "code",
   "execution_count": 28,
   "id": "d99b23a3",
   "metadata": {},
   "outputs": [
    {
     "data": {
      "image/png": "[encoded data removed]",
      "text/plain": [
       "<Figure size 432x288 with 1 Axes>"
      ]
     },
     "metadata": {
      "needs_background": "light"
     },
     "output_type": "display_data"
    }
   ],
   "source": [
    "\n",
    "def f1(t):\n",
    "    return -200*t +2\n",
    "\n",
    "def f2(t):\n",
    "    return -2\n",
    "\n",
    "# Valores del eje X que toma el gráfico.\n",
    "\n",
    "t1 = np.arange(0, 0.02,0.0001)\n",
    "t2 = np.arange(0.02, 0.1,0.001)\n",
    "# Graficar ambas funciones.\n",
    "pyplot.plot(t1, [f1(i) for i in t1],color='red')\n",
    "pyplot.plot(t2, [f2(i) for i in t2],color='red')\n",
    "\n",
    "# Establecer el color de los ejes.\n",
    "pyplot.axhline(0, color=\"black\")\n",
    "pyplot.axvline(0, color=\"black\")\n",
    "# Mostrarlo.\n",
    "pyplot.show()"
   ]
  },
  {
   "cell_type": "markdown",
   "id": "ab0743e2",
   "metadata": {},
   "source": [
    "\\begin{equation} f(t)= \\left\\{ \\begin{array}{lcc}\n",
    "             -200*t +2 &   si  & 0 < t < 0.02 \\\\\n",
    "             \\\\ -2 &  si & 0.02 < t < 0.1 \\\\\n",
    "             \\end{array}\n",
    "   \\right.\n",
    "\\end{equation}\n",
    "\n",
    "$Vme=\\frac{1}{T} \\int_{0}^{T} f(t) dt$\n",
    "\n",
    "$Vme=\\frac{1}{0.1} [\\int_{0}^{0.02} (-200t+2) dt+\\int_{0.02}^{0.1} -2 dt]$\n",
    "\n",
    "$Vme=\\frac{1}{0.1} [-200 \\int_{0}^{0.02} t dt + 2 \\int_{0}^{0.02} dt -2\\int_{0.02}^{0.1} dt]$\n",
    "\n",
    "$Vme=\\frac{1}{0.1} [-200 \\int_{0}^{0.02} t dt + 2 \\int_{0}^{0.02} dt -2\\int_{0.02}^{0.1} dt]$\n",
    "\n",
    "$Vme=\\frac{1}{0.1} [-200 \\frac{(0.02)^2}{2} + 2 (0.02)  -2 (0.08)]$\n",
    "\n",
    "$Vme=\\frac{1}{0.1} [-0.04 + 0.04  -0.16)]$\n",
    "\n",
    "$Vme=\\frac{1}{0.1} [-0.16]$\n",
    "\n",
    "$Vme=-1.6$"
   ]
  },
  {
   "cell_type": "code",
   "execution_count": null,
   "id": "1a5e2c0b",
   "metadata": {},
   "outputs": [],
   "source": []
  }
 ],
 "metadata": {
  "kernelspec": {
   "display_name": "Python 3 (ipykernel)",
   "language": "python",
   "name": "python3"
  },
  "language_info": {
   "codemirror_mode": {
    "name": "ipython",
    "version": 3
   },
   "file_extension": ".py",
   "mimetype": "text/x-python",
   "name": "python",
   "nbconvert_exporter": "python",
   "pygments_lexer": "ipython3",
   "version": "3.9.7"
  }
 },
 "nbformat": 4,
 "nbformat_minor": 5
}
