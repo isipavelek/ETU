{
 "cells": [
  {
   "cell_type": "markdown",
   "id": "3ed5c82e",
   "metadata": {},
   "source": [
    "### Valores caracteristicos\n"
   ]
  },
  {
   "cell_type": "code",
   "execution_count": 61,
   "id": "65adf1db",
   "metadata": {},
   "outputs": [
    {
     "data": {
      "image/png": "[encoded data removed]",
      "text/plain": [
       "<Figure size 432x288 with 1 Axes>"
      ]
     },
     "metadata": {
      "needs_background": "light"
     },
     "output_type": "display_data"
    }
   ],
   "source": [
    "import numpy as np\n",
    "from matplotlib import pyplot\n",
    "\n",
    "def f1(t):\n",
    "    return 4*(t) + 6\n",
    "\n",
    "# Valores del eje X que toma el gráfico.\n",
    "\n",
    "t1 = range(0, 2)\n",
    "# Graficar ambas funciones.\n",
    "pyplot.plot(t1, [f1(i) for i in t1],color='red')\n",
    "\n",
    "# Establecer el color de los ejes.\n",
    "pyplot.axhline(0, color=\"black\")\n",
    "pyplot.axvline(0, color=\"black\")\n",
    "# Mostrarlo.\n",
    "pyplot.show()"
   ]
  },
  {
   "cell_type": "markdown",
   "id": "69248564",
   "metadata": {},
   "source": [
    "## ejercicio 1\n",
    "\n",
    "\n",
    "$f(t)= \\frac{4}{T} \\cdot t+6$   $si   0 < t < T  $\n",
    "   \n",
    "\n",
    "$Vme=\\frac{1}{T} \\int_{0}^{T} f(t) dt$\n",
    "\n",
    "$Vme=\\frac{1}{T} \\int_{0}^{T} (\\frac{4}{T}\\cdot t+6) dt$\n",
    "\n",
    "$Vme=\\frac{1}{T} [\\int_{0}^{T} \\frac{4}{T}\\cdot t dt + \\int_{0}^{T} 6 dt]$\n",
    "\n",
    "$Vme=\\frac{1}{T} [\\frac{4}{T} \\int_{0}^{T} t dt +  6 \\cdot \\int_{0}^{T} dt]$\n",
    "\n",
    "$Vme=\\frac{1}{T} [\\frac{4}{T} \\frac{t^2}{2}|_{0}^{T} +  6 \\cdot t |_{0}^{T}]$\n",
    "\n",
    "$Vme=\\frac{1}{T} [\\frac{4}{T} \\frac{T^2}{2} +  6 \\cdot T]$\n",
    "\n",
    "$Vme=\\frac{1}{T} [2\\cdot T +  6 \\cdot T]$\n",
    "\n",
    "$Vme=\\frac{1}{T} [8\\cdot T]$\n",
    "\n",
    "$Vme=8$\n",
    "\n",
    "Vmedio en modulo igual al Vme por no tener parte negativa.\n",
    "\n",
    "Por area:\n",
    "\n",
    "$Vme=\\frac{T\\cdot 6 + 4 \\cdot \\frac{T}{2}}{T}$\n",
    "\n",
    "$Vme=\\frac{8T}{T}=8$\n",
    "\n",
    "\n"
   ]
  },
  {
   "cell_type": "markdown",
   "id": "50db24e0",
   "metadata": {},
   "source": [
    "$Vef^2=\\frac{1}{T} \\int_{0}^{T} f(t)^2 dt$\n",
    "\n",
    "$Vef^2=\\frac{1}{T} \\int_{0}^{T} (\\frac{4}{T}\\cdot t+6)^2 dt$\n",
    "\n",
    "$Vef^2=\\frac{1}{T} \\int_{0}^{T} (\\frac{16t^2}{T^2}+\\frac{48t}{T}+ 36 ) dt$\n",
    "\n",
    "$Vef^2=\\frac{1}{T} [\\frac{16}{T^2} \\int_{0}^{T} t^2 dt + \\frac{48}{T}\\int_{0}^{T} t dt + \\int_{0}^{T}  36 dt]$\n",
    "\n",
    "$Vef^2=\\frac{1}{T} [\\frac{16}{T^2} \\frac{T^3}{3} + \\frac{48}{T} \\frac{T^2}{2} + 36 T ]$\n",
    "\n",
    "$Vef^2=\\frac{1}{T} [\\frac{16}{3} T + 24 T + 36 T ]$\n",
    "\n",
    "$Vef^2=\\frac{1}{T} [\\frac{196T}{3} ]$\n",
    "\n",
    "$Vef^2=\\frac{196}{3}$\n",
    "\n",
    "$Vef=\\sqrt{\\frac{196}{3}}$\n",
    "\n",
    "$Vef=\\frac{14}{\\sqrt3}=8.0829$\n",
    "\n",
    "\n"
   ]
  },
  {
   "cell_type": "code",
   "execution_count": 62,
   "id": "e04fd208",
   "metadata": {},
   "outputs": [
    {
     "name": "stdout",
     "output_type": "stream",
     "text": [
      "Vme: 8.00000000000000 \n",
      "Vef: 8.08 \n"
     ]
    }
   ],
   "source": [
    "from sympy import *\n",
    "from sympy.abc import t\n",
    "Vme=((1/1)* (integrate(4*(t) + 6 , (t, 0, 1))))\n",
    "Vef=((1/1)* (integrate((4*(t) + 6)**2 , (t, 0, 1))))**0.5\n",
    "\n",
    "print(f\"Vme: {Vme.round(2)} \")\n",
    "print(f\"Vef: {Vef.round(2)} \")"
   ]
  },
  {
   "cell_type": "markdown",
   "id": "71c045f6",
   "metadata": {},
   "source": [
    "## ejercicio 2"
   ]
  },
  {
   "cell_type": "code",
   "execution_count": 63,
   "id": "f266bd51",
   "metadata": {},
   "outputs": [
    {
     "data": {
      "image/png": "[encoded data removed]",
      "text/plain": [
       "<Figure size 432x288 with 1 Axes>"
      ]
     },
     "metadata": {
      "needs_background": "light"
     },
     "output_type": "display_data"
    }
   ],
   "source": [
    "def f1(t):\n",
    "    return 2*np.sin(2*t) +3\n",
    "\n",
    "# Valores del eje X que toma el gráfico.\n",
    "\n",
    "t1 = np.arange(0, 3.14,0.01)\n",
    "# Graficar ambas funciones.\n",
    "pyplot.plot(t1, [f1(i) for i in t1],color='red')\n",
    "\n",
    "# Establecer el color de los ejes.\n",
    "pyplot.axhline(0, color=\"black\")\n",
    "pyplot.axvline(0, color=\"black\")\n",
    "# Mostrarlo.\n",
    "pyplot.show()"
   ]
  },
  {
   "cell_type": "markdown",
   "id": "1d608ad3",
   "metadata": {},
   "source": [
    "\n",
    "$f(t)= 2\\cdot sin(2t)+3 $\n",
    "   \n",
    "\n",
    "$Vme=\\frac{1}{T} \\int_{0}^{T} f(t) dt$\n",
    "\n",
    "$Vme=\\frac{1}{\\pi} \\int_{0}^{\\pi} (2 \\cdot sin(2t)+3) dt$\n",
    "\n",
    "$Vme=\\frac{1}{\\pi} [2 \\cdot \\int_{0}^{\\pi} sin(2t) dt + 3\\int_{0}^{\\pi} dt]$\n",
    "\n",
    "$Vme=\\frac{1}{\\pi} [2 \\frac{-cos(2t)}{2}|_{0}^{\\pi} + 3 t|_{0}^{\\pi}]$\n",
    "\n",
    "$Vme=\\frac{1}{\\pi} [-cos(2\\pi)+cos(0) + 3 \\pi ]$\n",
    "\n",
    "$Vme=\\frac{1}{\\pi} [-1+ 1 + 3 \\pi ]$\n",
    "\n",
    "$Vme=\\frac{1}{\\pi} [3 \\pi ]$\n",
    "\n",
    "$Vme=3$\n",
    "\n",
    "Vmedio en modulo igual al Vme por no tener parte negativa.\n"
   ]
  },
  {
   "cell_type": "markdown",
   "id": "6694cfdd",
   "metadata": {},
   "source": [
    "$Vef^2=\\frac{1}{T} \\int_{0}^{T} f(t)^2 dt$\n",
    "\n",
    "\n",
    "$Vef^2=\\frac{1}{\\pi} \\int_{0}^{\\pi} (2 \\cdot sin(2t)+3)^2 dt$\n",
    "\n",
    "$Vef^2=\\frac{1}{\\pi} \\int_{0}^{\\pi} (4 \\cdot sin^2(2t)+12 sin (2t)+9)dt$\n",
    "\n",
    "$Vef^2=\\frac{1}{\\pi} [4 \\int_{0}^{\\pi} sin^2(2t)dt +12  \\int_{0}^{\\pi} sin (2t)dt+ 9 \\int_{0}^{\\pi}dt]$\n",
    "\n",
    "$Vef^2=\\frac{1}{\\pi} [4 (\\frac{t}{2}-\\frac{sin(2t)}{8}|_{0}^{\\pi}) +6 (-cos(2t) |_{0}^{\\pi}+ 9 t|_{0}^{\\pi}]$\n",
    "\n",
    "$Vef^2=\\frac{1}{\\pi} [4 (\\frac{\\pi}{2}) +6 (-1+1) + 9 \\pi]$"
   ]
  },
  {
   "cell_type": "markdown",
   "id": "54926834",
   "metadata": {},
   "source": [
    "$Vef^2=\\frac{1}{\\pi} [4 (\\frac{\\pi}{2}) + 9 \\pi]$\n",
    "\n",
    "\n",
    "$Vef^2=\\frac{1}{\\pi} [4 (\\frac{\\pi}{2}) + 9 \\pi]$\n",
    "\n",
    "$Vef^2=\\frac{1}{\\pi} [11\\pi]$\n",
    "\n",
    "$Vef^2=11$\n",
    "\n",
    "$Vef=\\sqrt{11}$"
   ]
  },
  {
   "cell_type": "code",
   "execution_count": 64,
   "id": "4701a1a5",
   "metadata": {},
   "outputs": [
    {
     "name": "stdout",
     "output_type": "stream",
     "text": [
      "Vme: 3 \n",
      "Vef: 3.32 \n"
     ]
    }
   ],
   "source": [
    "from sympy import *\n",
    "from sympy.abc import t, n\n",
    "Vme=((1/pi)* (integrate(2*sin(2*t)+3, (t, 0, pi))))\n",
    "Vef=((1/pi)* (integrate((2*sin(2*t)+3)**2, (t, 0, pi))))**0.5\n",
    "\n",
    "print(f\"Vme: {Vme.round(2)} \")\n",
    "print(f\"Vef: {Vef.round(2)} \")"
   ]
  },
  {
   "cell_type": "markdown",
   "id": "0603af4d",
   "metadata": {},
   "source": [
    "## Ejercicio 3\n"
   ]
  },
  {
   "cell_type": "code",
   "execution_count": 65,
   "id": "6e0be670",
   "metadata": {},
   "outputs": [
    {
     "data": {
      "image/png": "[encoded data removed]",
      "text/plain": [
       "<Figure size 432x288 with 1 Axes>"
      ]
     },
     "metadata": {
      "needs_background": "light"
     },
     "output_type": "display_data"
    }
   ],
   "source": [
    "\n",
    "def f1(t):\n",
    "    return -200*t +2\n",
    "\n",
    "def f2(t):\n",
    "    return -2\n",
    "\n",
    "# Valores del eje X que toma el gráfico.\n",
    "\n",
    "t1 = np.arange(0, 0.02,0.0001)\n",
    "t2 = np.arange(0.02, 0.1,0.001)\n",
    "# Graficar ambas funciones.\n",
    "pyplot.plot(t1, [f1(i) for i in t1],color='red')\n",
    "pyplot.plot(t2, [f2(i) for i in t2],color='red')\n",
    "\n",
    "# Establecer el color de los ejes.\n",
    "pyplot.axhline(0, color=\"black\")\n",
    "pyplot.axvline(0, color=\"black\")\n",
    "# Mostrarlo.\n",
    "pyplot.show()"
   ]
  },
  {
   "cell_type": "markdown",
   "id": "50a869e7",
   "metadata": {},
   "source": [
    "\\begin{equation} f(t)= \\left\\{ \\begin{array}{lcc}\n",
    "             -200*t +2 &   si  & 0 < t < 0.02 \\\\\n",
    "             \\\\ -2 &  si & 0.02 < t < 0.1 \\\\\n",
    "             \\end{array}\n",
    "   \\right.\n",
    "\\end{equation}\n",
    "\n",
    "$Vme=\\frac{1}{T} \\int_{0}^{T} f(t) dt$\n",
    "\n",
    "$Vme=\\frac{1}{0.1} [\\int_{0}^{0.02} (-200t+2) dt+\\int_{0.02}^{0.1} -2 dt]$\n",
    "\n",
    "$Vme=\\frac{1}{0.1} [-200 \\int_{0}^{0.02} t dt + 2 \\int_{0}^{0.02} dt -2\\int_{0.02}^{0.1} dt]$\n",
    "\n",
    "$Vme=\\frac{1}{0.1} [-200 \\int_{0}^{0.02} t dt + 2 \\int_{0}^{0.02} dt -2\\int_{0.02}^{0.1} dt]$\n",
    "\n",
    "$Vme=\\frac{1}{0.1} [-200 \\frac{(0.02)^2}{2} + 2 (0.02)  -2 (0.08)]$\n",
    "\n",
    "$Vme=\\frac{1}{0.1} [-0.04 + 0.04  -0.16)]$\n",
    "\n",
    "$Vme=\\frac{1}{0.1} [-0.16]$\n",
    "\n",
    "$Vme=-1.6$"
   ]
  },
  {
   "cell_type": "markdown",
   "id": "af579d7b",
   "metadata": {},
   "source": [
    "### Valor medio en modulo"
   ]
  },
  {
   "cell_type": "code",
   "execution_count": 66,
   "id": "2c29107f",
   "metadata": {},
   "outputs": [
    {
     "data": {
      "image/png": "[encoded data removed]",
      "text/plain": [
       "<Figure size 432x288 with 1 Axes>"
      ]
     },
     "metadata": {
      "needs_background": "light"
     },
     "output_type": "display_data"
    }
   ],
   "source": [
    "\n",
    "def f1(t):\n",
    "    return -200*t +2\n",
    "\n",
    "def f2(t):\n",
    "    return 200*t -2\n",
    "\n",
    "def f3(t):\n",
    "    return 2\n",
    "\n",
    "# Valores del eje X que toma el gráfico.\n",
    "\n",
    "t1 = np.arange(0, 0.01,0.0001)\n",
    "t2 = np.arange(0.01, 0.02,0.0001)\n",
    "t3 = np.arange(0.02, 0.1,0.001)\n",
    "# Graficar ambas funciones.\n",
    "pyplot.plot(t1, [f1(i) for i in t1],color='red')\n",
    "pyplot.plot(t2, [f2(i) for i in t2],color='red')\n",
    "pyplot.plot(t3, [f3(i) for i in t3],color='red')\n",
    "\n",
    "# Establecer el color de los ejes.\n",
    "pyplot.axhline(0, color=\"black\")\n",
    "pyplot.axvline(0, color=\"black\")\n",
    "# Mostrarlo.\n",
    "pyplot.show()"
   ]
  },
  {
   "cell_type": "markdown",
   "id": "4751f874",
   "metadata": {},
   "source": [
    "\\begin{equation} |f(t)|= \\left\\{ \\begin{array}{lcc}\n",
    "             -200*t +2 &   si  & 0 < t < 0.01 \\\\\n",
    "             200*t -2 &   si  & 0.01 < t < 0.02 \\\\                              \n",
    "             \\\\ -2 &  si & 0.02 < t < 0.1 \\\\\n",
    "             \\end{array}\n",
    "   \\right.\n",
    "\\end{equation}\n",
    "\n",
    "$V|me|=\\frac{1}{T} \\int_{0}^{T} |f(t)| dt$\n",
    "\n",
    "$V|me|=\\frac{1}{0.1} [\\int_{0}^{0.01} (-200t+2) dt+ 200 \\int_{0.01}^{0.02} t dt - 2 \\int_{0.01}^{0.02} dt +\\int_{0.01}^{0.1} 2 dt]$\n",
    "\n",
    "$V|me|=\\frac{1}{0.1} [-200 \\int_{0}^{0.01} t dt + 2 \\int_{0}^{0.01} dt + 200 \\int_{0.01}^{0.02} t dt - 2 \\int_{0.01}^{0.02} dt+2\\int_{0.02}^{0.1} dt]$\n",
    "\n",
    "$V|me|=\\frac{1}{0.1} [-200 \\int_{0}^{0.01} t dt + 2 \\int_{0}^{0.01} dt + 200 \\int_{0.01}^{0.02} t dt - 2 \\int_{0.01}^{0.02} dt   +2\\int_{0.02}^{0.1} dt]$\n",
    "\n",
    "$V|me|=\\frac{1}{0.1} [-0.01 + 0.02 +0.03 - 0.02  +0.16]$\n",
    "\n",
    "$V|me|=\\frac{1}{0.1} [0.18]$\n",
    "\n",
    "$V|me|=1.8$"
   ]
  },
  {
   "cell_type": "markdown",
   "id": "dfd3af85",
   "metadata": {},
   "source": [
    "$Vef^2=\\frac{1}{T} \\int_{0}^{T} f(t)^2 dt$\n",
    "\n",
    "$Vef^2=\\frac{1}{0.1} [\\int_{0}^{0.02} (-200t+2)^2 dt +\\int_{0.02}^{0.1} (-2)^2 dt]$\n",
    "\n",
    "$Vef^2=\\frac{1}{0.1} [\\int_{0}^{0.02} (40000t^2-800t+4) dt + 4 \\int_{0.02}^{0.1} dt]$\n",
    "\n",
    "$Vef^2=\\frac{1}{0.1} [40000 \\int_{0}^{0.02} t^2dt-800 \\int_{0}^{0.02} tdt+4 \\int_{0}^{0.02} dt+ 4 \\int_{0.02}^{0.1}dt]$\n",
    "\n",
    "$Vef^2=\\frac{1}{0.1} [40000 \\frac{0.02^3}{3} -800 \\cdot \\frac{ 0.02^2}{2} +4 \\cdot 0.02+ 4 (0.1-0.02)]$\n",
    "\n",
    "$Vef^2=\\frac{1}{0.1} [\\frac{0.32}{3} -0.16 +0.08+ 0.32]$\n",
    "\n",
    "$Vef^2=\\frac{1}{0.1} [0.3466]$\n",
    "\n",
    "$Vef^2=3.466$\n",
    "\n",
    "$Vef=1.86$\n",
    "\n",
    "\n"
   ]
  },
  {
   "cell_type": "code",
   "execution_count": 67,
   "id": "25665cc7",
   "metadata": {},
   "outputs": [
    {
     "name": "stdout",
     "output_type": "stream",
     "text": [
      "Vme: -1.60 \n",
      "Vmemod: 1.80 \n",
      "Vef: 1.86 \n"
     ]
    }
   ],
   "source": [
    "from sympy import *\n",
    "from sympy.abc import t, n\n",
    "Vme=((1/0.1)* (integrate((-200*t+2), (t, 0, 0.02))+integrate((-2), (t, 0.02,0.1))))\n",
    "Vmemod= ((1/0.1)* (integrate((-200*t+2), (t, 0, 0.01))+integrate((200*t-2), (t, 0.01, 0.02)) +integrate((2), (t, 0.02,0.1))))\n",
    "Vef = ((1/0.1)* (integrate((-200*t+2)**2, (t, 0, 0.02))+integrate((-2)**2, (t, 0.02,0.1))))**(0.5)\n",
    "\n",
    "print(f\"Vme: {Vme.round(2)} \")\n",
    "print(f\"Vmemod: {Vmemod.round(2)} \")\n",
    "print(f\"Vef: {Vef.round(2)} \")\n"
   ]
  }
 ],
 "metadata": {
  "kernelspec": {
   "display_name": "Python 3 (ipykernel)",
   "language": "python",
   "name": "python3"
  },
  "language_info": {
   "codemirror_mode": {
    "name": "ipython",
    "version": 3
   },
   "file_extension": ".py",
   "mimetype": "text/x-python",
   "name": "python",
   "nbconvert_exporter": "python",
   "pygments_lexer": "ipython3",
   "version": "3.9.7"
  }
 },
 "nbformat": 4,
 "nbformat_minor": 5
}
